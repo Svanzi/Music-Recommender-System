{
 "cells": [
  {
   "cell_type": "code",
   "execution_count": null,
   "id": "3ec1150d",
   "metadata": {},
   "outputs": [],
   "source": [
    "# check kernel environment\n",
    "import sys\n",
    "print(\"Kernel: {}\".format(sys.executable))\n",
    "\n",
    "# Install missing packages\n",
    "%pip install seaborn\n",
    "%pip install fuzzywuzzy\n",
    "\n",
    "# Core data analysis packages\n",
    "import pandas as pd\n",
    "import numpy as np\n",
    "\n",
    "# For our EDA charts\n",
    "import matplotlib.pyplot as plt\n",
    "import matplotlib.ticker as ticker\n",
    "import seaborn as sns\n",
    "\n",
    "# Compressed Sparse Row (\"CSR\") matrix\n",
    "from scipy.sparse import csr_matrix \n",
    "\n",
    "# use K-Nearest Neighbors to find cosine distance amongst artists\n",
    "from sklearn.neighbors import NearestNeighbors\n",
    "\n",
    "# Install scikit-surprise for recommender system models and import surprise modules\n",
    "\n",
    "# fuzzy string matching to allow for differing spelling of artist names\n",
    "from fuzzywuzzy import fuzz, process\n",
    "\n",
    "# set output to three decimals\n",
    "pd.set_option('display.float_format',lambda x: '%.2f' %x)\n",
    "\n",
    "# set seed for reproducibility of random number initializations\n",
    "seed = np.random.RandomState(seed=42)"
   ]
  }
 ],
 "metadata": {
  "language_info": {
   "name": "python"
  }
 },
 "nbformat": 4,
 "nbformat_minor": 5
}
